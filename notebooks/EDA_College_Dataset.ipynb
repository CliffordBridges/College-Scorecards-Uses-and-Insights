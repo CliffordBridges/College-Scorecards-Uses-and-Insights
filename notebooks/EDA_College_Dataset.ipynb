{
 "cells": [
  {
   "cell_type": "code",
   "execution_count": 1,
   "metadata": {},
   "outputs": [],
   "source": [
    "import numpy as np\n",
    "import pandas as pd\n",
    "import pandas_profiling\n",
    "import os\n",
    "import matplotlib.pyplot as plt\n",
    "import seaborn as sns"
   ]
  },
  {
   "cell_type": "code",
   "execution_count": 3,
   "metadata": {},
   "outputs": [
    {
     "name": "stdout",
     "output_type": "stream",
     "text": [
      "CollegeScorecardDataDictionary.xlsx README.md\r\n",
      "EDA_College_Dataset.ipynb           pickle_copy.pkl\r\n"
     ]
    }
   ],
   "source": [
    "!ls"
   ]
  },
  {
   "cell_type": "markdown",
   "metadata": {},
   "source": [
    "#### INSTNM \n",
    "Instituition name\n",
    "\n",
    "\n",
    "\n",
    "#### HIGHDEG\n",
    "Highest degree that students most consistently earn\n",
    "\n",
    "\n",
    "\n",
    "#### CONTROL\n",
    "Doesn't explicitly say this, but assumed\n",
    "1 = public\n",
    "2 = private, for-profit\n",
    "3 = private, non-profit\n",
    "\n",
    "\n",
    "\n",
    "#### REGION\n",
    "Region school is located\n",
    "\n",
    "\n",
    "\n",
    "#### LOCALE\n",
    "Distinguishes between city, town, rural areas, etc\n",
    "\n",
    "\n",
    "\n",
    "#### CURROPER\n",
    "Whether or not the school is currently operating\n",
    "\n",
    "\n",
    "\n",
    "#### TUITFTE\n",
    "Tuition revenue minus discounts and allowances. Divides this by the number of full-time enrolled (FTE) undergrad + grad students\n",
    "\n",
    "\n",
    "\n",
    "#### INEXPFTE\n",
    "Instructional expenditures divided by the number of FTE students\n",
    "\n",
    "\n",
    "\n",
    "#### CDR3\n",
    "This is the three-year cohort default rate. The rate at which a cohort defaults on loans 3 years after graduating.\n",
    "Cohort default rates are produced annually32 as an institutional accountability metric; institutions with high default rates may lose access to federal financial aid. \n",
    "\n",
    "\n",
    "\n",
    "#### LO_INC_DEBT_N\n",
    "The number of students in the median debt with low income (<= 30k)\n",
    "How much the students took out in order to go to school.\n",
    "\n",
    "\n",
    "\n",
    "#### MD_INC_DEBT_N\n",
    "(30k< income <= 75k)\n",
    "\n",
    "\n",
    "\n",
    "#### HI_INC_DEBT_N\n",
    "(> 75k)\n",
    "\n",
    "\n",
    "\n",
    "#### ICLEVEL\n",
    "Highest degree offered by institution (not the highest one commonly earned like HIGHDEG is).\n",
    "\n",
    "\n",
    "\n",
    "#### year\n",
    "The year\n"
   ]
  },
  {
   "cell_type": "code",
   "execution_count": 4,
   "metadata": {},
   "outputs": [],
   "source": [
    "df = pd.read_pickle('pickle_copy.pkl')"
   ]
  },
  {
   "cell_type": "code",
   "execution_count": 8,
   "metadata": {},
   "outputs": [
    {
     "name": "stdout",
     "output_type": "stream",
     "text": [
      "<class 'pandas.core.frame.DataFrame'>\n",
      "Int64Index: 154228 entries, 0 to 7057\n",
      "Data columns (total 14 columns):\n",
      "INSTNM           154228 non-null object\n",
      "HIGHDEG          154228 non-null int64\n",
      "CONTROL          154205 non-null float64\n",
      "REGION           154227 non-null float64\n",
      "LOCALE           6614 non-null float64\n",
      "CURROPER         7058 non-null float64\n",
      "TUITFTE          133780 non-null float64\n",
      "INEXPFTE         133775 non-null float64\n",
      "CDR3             47815 non-null float64\n",
      "LO_INC_DEBT_N    137486 non-null object\n",
      "MD_INC_DEBT_N    137486 non-null object\n",
      "HI_INC_DEBT_N    137486 non-null object\n",
      "ICLEVEL          154205 non-null float64\n",
      "year             154228 non-null int64\n",
      "dtypes: float64(8), int64(2), object(4)\n",
      "memory usage: 17.6+ MB\n"
     ]
    }
   ],
   "source": [
    "df.info()"
   ]
  },
  {
   "cell_type": "code",
   "execution_count": null,
   "metadata": {},
   "outputs": [],
   "source": []
  }
 ],
 "metadata": {
  "kernelspec": {
   "display_name": "Python 3",
   "language": "python",
   "name": "python3"
  },
  "language_info": {
   "codemirror_mode": {
    "name": "ipython",
    "version": 3
   },
   "file_extension": ".py",
   "mimetype": "text/x-python",
   "name": "python",
   "nbconvert_exporter": "python",
   "pygments_lexer": "ipython3",
   "version": "3.7.4"
  }
 },
 "nbformat": 4,
 "nbformat_minor": 2
}
