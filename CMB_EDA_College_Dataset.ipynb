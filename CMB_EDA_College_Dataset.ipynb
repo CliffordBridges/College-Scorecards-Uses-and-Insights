{
 "cells": [
  {
   "cell_type": "code",
   "execution_count": 68,
   "metadata": {},
   "outputs": [],
   "source": [
    "import numpy as np\n",
    "import pandas as pd\n",
    "import pandas_profiling\n",
    "import os\n",
    "import matplotlib.pyplot as plt\n",
    "import seaborn as sns\n",
    "\n",
    "%matplotlib inline\n",
    "\n",
    "from sklearn.preprocessing import MinMaxScaler\n",
    "from sklearn.linear_model import Lasso, Ridge, LinearRegression, LogisticRegression\n",
    "from sklearn.model_selection import train_test_split"
   ]
  },
  {
   "cell_type": "code",
   "execution_count": 3,
   "metadata": {},
   "outputs": [
    {
     "name": "stdout",
     "output_type": "stream",
     "text": [
      "CollegeScorecardDataDictionary.xlsx README.md\r\n",
      "EDA_College_Dataset.ipynb           pickle_copy.pkl\r\n"
     ]
    }
   ],
   "source": [
    "!ls"
   ]
  },
  {
   "cell_type": "markdown",
   "metadata": {},
   "source": [
    "#### INSTNM \n",
    "Instituition name\n",
    "\n",
    "\n",
    "\n",
    "#### HIGHDEG\n",
    "Highest degree that students most consistently earn\n",
    "\n",
    "\n",
    "\n",
    "#### CONTROL\n",
    "Doesn't explicitly say this, but assumed\n",
    "1 = public\n",
    "2 = private, for-profit\n",
    "3 = private, non-profit\n",
    "\n",
    "\n",
    "\n",
    "#### REGION\n",
    "Region school is located\n",
    "\n",
    "\n",
    "\n",
    "#### LOCALE\n",
    "Distinguishes between city, town, rural areas, etc\n",
    "\n",
    "\n",
    "\n",
    "#### CURROPER\n",
    "Whether or not the school is currently operating\n",
    "\n",
    "\n",
    "\n",
    "#### TUITFTE\n",
    "Tuition revenue minus discounts and allowances. Divides this by the number of full-time enrolled (FTE) undergrad + grad students\n",
    "\n",
    "\n",
    "\n",
    "#### INEXPFTE\n",
    "Instructional expenditures divided by the number of FTE students\n",
    "\n",
    "\n",
    "\n",
    "#### CDR3\n",
    "This is the three-year cohort default rate. The rate at which a cohort defaults on loans 3 years after graduating.\n",
    "Cohort default rates are produced annually32 as an institutional accountability metric; institutions with high default rates may lose access to federal financial aid. \n",
    "\n",
    "\n",
    "\n",
    "#### LO_INC_DEBT_N\n",
    "The number of students in the median debt with low income (<= 30k)\n",
    "How much the students took out in order to go to school.\n",
    "\n",
    "\n",
    "\n",
    "#### MD_INC_DEBT_N\n",
    "(30k< income <= 75k)\n",
    "\n",
    "\n",
    "\n",
    "#### HI_INC_DEBT_N\n",
    "(> 75k)\n",
    "\n",
    "\n",
    "\n",
    "#### ICLEVEL\n",
    "Highest degree offered by institution (not the highest one commonly earned like HIGHDEG is).\n",
    "\n",
    "\n",
    "\n",
    "#### year\n",
    "The year\n"
   ]
  },
  {
   "cell_type": "markdown",
   "metadata": {},
   "source": [
    "## Read in the data"
   ]
  },
  {
   "cell_type": "code",
   "execution_count": 2,
   "metadata": {},
   "outputs": [],
   "source": [
    "df = pd.read_pickle('pickle_copy.pkl')"
   ]
  },
  {
   "cell_type": "code",
   "execution_count": 3,
   "metadata": {},
   "outputs": [
    {
     "name": "stdout",
     "output_type": "stream",
     "text": [
      "<class 'pandas.core.frame.DataFrame'>\n",
      "Int64Index: 154228 entries, 0 to 7057\n",
      "Data columns (total 14 columns):\n",
      "INSTNM           154228 non-null object\n",
      "HIGHDEG          154228 non-null int64\n",
      "CONTROL          154205 non-null float64\n",
      "REGION           154227 non-null float64\n",
      "LOCALE           6614 non-null float64\n",
      "CURROPER         7058 non-null float64\n",
      "TUITFTE          133780 non-null float64\n",
      "INEXPFTE         133775 non-null float64\n",
      "CDR3             47815 non-null float64\n",
      "LO_INC_DEBT_N    137486 non-null object\n",
      "MD_INC_DEBT_N    137486 non-null object\n",
      "HI_INC_DEBT_N    137486 non-null object\n",
      "ICLEVEL          154205 non-null float64\n",
      "year             154228 non-null int64\n",
      "dtypes: float64(8), int64(2), object(4)\n",
      "memory usage: 17.6+ MB\n"
     ]
    }
   ],
   "source": [
    "df.info()"
   ]
  },
  {
   "cell_type": "markdown",
   "metadata": {},
   "source": [
    "### Create a new feature \n",
    "\n",
    "Create a feature called ```TUTION_VALUE``` which is how much a school spend on student per dollar a student pays in tuition."
   ]
  },
  {
   "cell_type": "code",
   "execution_count": 22,
   "metadata": {
    "scrolled": true
   },
   "outputs": [
    {
     "data": {
      "text/plain": [
       "(133053, 15)"
      ]
     },
     "execution_count": 22,
     "metadata": {},
     "output_type": "execute_result"
    }
   ],
   "source": [
    "df['TUITION_VALUE'] = df.INEXPFTE/df.TUITFTE"
   ]
  },
  {
   "cell_type": "code",
   "execution_count": 29,
   "metadata": {},
   "outputs": [
    {
     "data": {
      "text/plain": [
       "32980.13999999972"
      ]
     },
     "execution_count": 29,
     "metadata": {},
     "output_type": "execute_result"
    }
   ],
   "source": [
    "df.TUITFTE.quantile(0.98)"
   ]
  },
  {
   "cell_type": "code",
   "execution_count": 30,
   "metadata": {},
   "outputs": [
    {
     "data": {
      "text/plain": [
       "292.5799999999999"
      ]
     },
     "execution_count": 30,
     "metadata": {},
     "output_type": "execute_result"
    }
   ],
   "source": [
    "df.TUITFTE.quantile(0.02)"
   ]
  },
  {
   "cell_type": "markdown",
   "metadata": {},
   "source": [
    "## Create a clean dataframe with no null values"
   ]
  },
  {
   "cell_type": "code",
   "execution_count": 48,
   "metadata": {},
   "outputs": [],
   "source": [
    "df_known_curroper = df.loc[df.year==2017].dropna(subset=['CURROPER'])"
   ]
  },
  {
   "cell_type": "code",
   "execution_count": 49,
   "metadata": {},
   "outputs": [
    {
     "name": "stdout",
     "output_type": "stream",
     "text": [
      "<class 'pandas.core.frame.DataFrame'>\n",
      "Int64Index: 7058 entries, 0 to 7057\n",
      "Data columns (total 15 columns):\n",
      "INSTNM           7058 non-null object\n",
      "HIGHDEG          7058 non-null int64\n",
      "CONTROL          7058 non-null float64\n",
      "REGION           7058 non-null float64\n",
      "LOCALE           6614 non-null float64\n",
      "CURROPER         7058 non-null float64\n",
      "TUITFTE          6593 non-null float64\n",
      "INEXPFTE         6593 non-null float64\n",
      "CDR3             6055 non-null float64\n",
      "LO_INC_DEBT_N    0 non-null object\n",
      "MD_INC_DEBT_N    0 non-null object\n",
      "HI_INC_DEBT_N    0 non-null object\n",
      "ICLEVEL          7058 non-null float64\n",
      "year             7058 non-null int64\n",
      "TUITION_VALUE    6589 non-null float64\n",
      "dtypes: float64(9), int64(2), object(4)\n",
      "memory usage: 882.2+ KB\n"
     ]
    }
   ],
   "source": [
    "df_known_curroper.info()"
   ]
  },
  {
   "cell_type": "code",
   "execution_count": 50,
   "metadata": {},
   "outputs": [],
   "source": [
    "df_known_curroper.drop(columns=['LO_INC_DEBT_N', 'MD_INC_DEBT_N', 'HI_INC_DEBT_N'], inplace=True)"
   ]
  },
  {
   "cell_type": "code",
   "execution_count": 51,
   "metadata": {},
   "outputs": [
    {
     "name": "stdout",
     "output_type": "stream",
     "text": [
      "<class 'pandas.core.frame.DataFrame'>\n",
      "Int64Index: 7058 entries, 0 to 7057\n",
      "Data columns (total 12 columns):\n",
      "INSTNM           7058 non-null object\n",
      "HIGHDEG          7058 non-null int64\n",
      "CONTROL          7058 non-null float64\n",
      "REGION           7058 non-null float64\n",
      "LOCALE           6614 non-null float64\n",
      "CURROPER         7058 non-null float64\n",
      "TUITFTE          6593 non-null float64\n",
      "INEXPFTE         6593 non-null float64\n",
      "CDR3             6055 non-null float64\n",
      "ICLEVEL          7058 non-null float64\n",
      "year             7058 non-null int64\n",
      "TUITION_VALUE    6589 non-null float64\n",
      "dtypes: float64(9), int64(2), object(1)\n",
      "memory usage: 716.8+ KB\n"
     ]
    }
   ],
   "source": [
    "df_known_curroper.info()"
   ]
  },
  {
   "cell_type": "code",
   "execution_count": 52,
   "metadata": {},
   "outputs": [],
   "source": [
    "df_known_curroper.dropna(inplace=True)"
   ]
  },
  {
   "cell_type": "code",
   "execution_count": 53,
   "metadata": {},
   "outputs": [
    {
     "name": "stdout",
     "output_type": "stream",
     "text": [
      "<class 'pandas.core.frame.DataFrame'>\n",
      "Int64Index: 5620 entries, 0 to 6612\n",
      "Data columns (total 12 columns):\n",
      "INSTNM           5620 non-null object\n",
      "HIGHDEG          5620 non-null int64\n",
      "CONTROL          5620 non-null float64\n",
      "REGION           5620 non-null float64\n",
      "LOCALE           5620 non-null float64\n",
      "CURROPER         5620 non-null float64\n",
      "TUITFTE          5620 non-null float64\n",
      "INEXPFTE         5620 non-null float64\n",
      "CDR3             5620 non-null float64\n",
      "ICLEVEL          5620 non-null float64\n",
      "year             5620 non-null int64\n",
      "TUITION_VALUE    5620 non-null float64\n",
      "dtypes: float64(9), int64(2), object(1)\n",
      "memory usage: 570.8+ KB\n"
     ]
    }
   ],
   "source": [
    "df_known_curroper.info()"
   ]
  },
  {
   "cell_type": "code",
   "execution_count": 55,
   "metadata": {},
   "outputs": [
    {
     "data": {
      "text/plain": [
       "1.0    5289\n",
       "0.0     331\n",
       "Name: CURROPER, dtype: int64"
      ]
     },
     "execution_count": 55,
     "metadata": {},
     "output_type": "execute_result"
    }
   ],
   "source": [
    "df_known_curroper.CURROPER.value_counts()"
   ]
  },
  {
   "cell_type": "markdown",
   "metadata": {},
   "source": [
    "## Partition dataframe into predictor values and the ```CURROPER```"
   ]
  },
  {
   "cell_type": "code",
   "execution_count": 60,
   "metadata": {},
   "outputs": [],
   "source": [
    "X = df_known_curroper.drop(['INSTNM', 'CURROPER', 'year', 'TUITION_VALUE'], axis=1)\n",
    "y = df_known_curroper['CURROPER']"
   ]
  },
  {
   "cell_type": "code",
   "execution_count": 61,
   "metadata": {},
   "outputs": [
    {
     "name": "stderr",
     "output_type": "stream",
     "text": [
      "C:\\Users\\cliff\\Anaconda3\\lib\\site-packages\\sklearn\\preprocessing\\data.py:334: DataConversionWarning: Data with input dtype int64, float64 were all converted to float64 by MinMaxScaler.\n",
      "  return self.partial_fit(X, y)\n"
     ]
    },
    {
     "data": {
      "text/plain": [
       "array([[1.        , 0.        , 0.55555556, ..., 0.01468801, 0.34375   ,\n",
       "        0.        ],\n",
       "       [1.        , 0.        , 0.55555556, ..., 0.03468728, 0.10243056,\n",
       "        0.        ],\n",
       "       [1.        , 0.5       , 0.55555556, ..., 0.01059638, 0.22222222,\n",
       "        0.        ],\n",
       "       ...,\n",
       "       [0.75      , 0.        , 0.33333333, ..., 0.01068091, 0.12152778,\n",
       "        0.        ],\n",
       "       [0.25      , 0.        , 0.33333333, ..., 0.11331782, 0.16840278,\n",
       "        0.        ],\n",
       "       [0.5       , 0.        , 0.33333333, ..., 0.0051885 , 0.19965278,\n",
       "        0.5       ]])"
      ]
     },
     "execution_count": 61,
     "metadata": {},
     "output_type": "execute_result"
    }
   ],
   "source": [
    "scaler = MinMaxScaler()\n",
    "scaler.fit(X)\n",
    "scaler.transform(X)"
   ]
  },
  {
   "cell_type": "code",
   "execution_count": 62,
   "metadata": {},
   "outputs": [],
   "source": [
    "X_train, X_test, y_train, y_test = train_test_split(X, y, random_state=0)"
   ]
  },
  {
   "cell_type": "code",
   "execution_count": 65,
   "metadata": {},
   "outputs": [],
   "source": [
    "logreg = LogisticRegression(fit_intercept=False, C=1e12, solver='lbfgs')\n",
    "model_log = logreg.fit(X_train, y_train)"
   ]
  },
  {
   "cell_type": "code",
   "execution_count": 66,
   "metadata": {},
   "outputs": [],
   "source": [
    "df_known_curroper['PREDICTED_FAILURE'] = logreg.predict(X)"
   ]
  },
  {
   "cell_type": "code",
   "execution_count": 74,
   "metadata": {
    "scrolled": false
   },
   "outputs": [
    {
     "data": {
      "image/png": "[encoded data removed]",
      "text/plain": [
       "<Figure size 432x288 with 1 Axes>"
      ]
     },
     "metadata": {
      "needs_background": "light"
     },
     "output_type": "display_data"
    }
   ],
   "source": [
    "plt.scatter(x='TUITFTE', y='CURROPER', data=df_known_curroper)\n",
    "plt.xlim(0, 100_000)\n",
    "# plt.plot(x='TUITFTE', y='PREDICTED_FAILURE', data=df_known_curroper)\n",
    "# plt.plot(df_known_curroper['TUITFTE'], df_known_curroper['PREDICTED_FAILURE'])\n",
    "plt.show()"
   ]
  },
  {
   "cell_type": "markdown",
   "metadata": {},
   "source": [
    "# Try Again!\n",
    "\n",
    "This time partitioning into Bachelors and higher, vs others"
   ]
  },
  {
   "cell_type": "code",
   "execution_count": 100,
   "metadata": {},
   "outputs": [],
   "source": [
    "df_known_curroper['high_tuition'] = df_known_curroper.TUITFTE.map(lambda x: int(x>6457))"
   ]
  },
  {
   "cell_type": "code",
   "execution_count": 106,
   "metadata": {},
   "outputs": [
    {
     "name": "stdout",
     "output_type": "stream",
     "text": [
      "<class 'pandas.core.frame.DataFrame'>\n",
      "Int64Index: 5620 entries, 0 to 6612\n",
      "Data columns (total 15 columns):\n",
      "INSTNM               5620 non-null object\n",
      "HIGHDEG              5620 non-null int64\n",
      "CONTROL              5620 non-null float64\n",
      "REGION               5620 non-null float64\n",
      "LOCALE               5620 non-null float64\n",
      "CURROPER             5620 non-null float64\n",
      "TUITFTE              5620 non-null float64\n",
      "INEXPFTE             5620 non-null float64\n",
      "CDR3                 5620 non-null float64\n",
      "ICLEVEL              5620 non-null float64\n",
      "year                 5620 non-null int64\n",
      "TUITION_VALUE        5620 non-null float64\n",
      "PREDICTED_FAILURE    5620 non-null float64\n",
      "Institution_type     5620 non-null int64\n",
      "high_tuition         5620 non-null int64\n",
      "dtypes: float64(10), int64(4), object(1)\n",
      "memory usage: 862.5+ KB\n"
     ]
    }
   ],
   "source": [
    "df_known_curroper['high_tuition'].info()"
   ]
  },
  {
   "cell_type": "code",
   "execution_count": 109,
   "metadata": {},
   "outputs": [
    {
     "data": {
      "image/png": "[encoded data removed]",
      "text/plain": [
       "<Figure size 432x288 with 1 Axes>"
      ]
     },
     "metadata": {
      "needs_background": "light"
     },
     "output_type": "display_data"
    }
   ],
   "source": [
    "plt.scatter(df_known_curroper['INEXPFTE'], df_known_curroper['high_tuition'])\n",
    "plt.xlim(0, 50_000)\n",
    "plt.show()"
   ]
  },
  {
   "cell_type": "code",
   "execution_count": null,
   "metadata": {},
   "outputs": [],
   "source": []
  }
 ],
 "metadata": {
  "kernelspec": {
   "display_name": "Python 3",
   "language": "python",
   "name": "python3"
  },
  "language_info": {
   "codemirror_mode": {
    "name": "ipython",
    "version": 3
   },
   "file_extension": ".py",
   "mimetype": "text/x-python",
   "name": "python",
   "nbconvert_exporter": "python",
   "pygments_lexer": "ipython3",
   "version": "3.7.3"
  }
 },
 "nbformat": 4,
 "nbformat_minor": 2
}
