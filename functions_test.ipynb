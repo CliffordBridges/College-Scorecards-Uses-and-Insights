{
 "cells": [
  {
   "cell_type": "code",
   "execution_count": 6,
   "metadata": {},
   "outputs": [],
   "source": [
    "import numpy as np\n",
    "import pandas as pd\n",
    "import pandas_profiling\n",
    "import os\n",
    "import matplotlib.pyplot as plt\n",
    "import seaborn as sns\n",
    "\n",
    "%matplotlib inline\n",
    "\n",
    "#from matplotlib import scatter_matrix\n",
    "from sklearn.preprocessing import MinMaxScaler\n",
    "from sklearn.preprocessing import RobustScaler\n",
    "from sklearn.linear_model import Lasso, Ridge, LinearRegression, LogisticRegression\n",
    "from sklearn.model_selection import train_test_split"
   ]
  },
  {
   "cell_type": "code",
   "execution_count": 18,
   "metadata": {},
   "outputs": [],
   "source": [
    "# import and clean test data\n",
    "\n",
    "df = pd.read_pickle('pickle_copy.pkl')\n",
    "df.dropna(subset=['CDR3', 'CONTROL'], inplace=True)\n",
    "df = df.replace('PrivacySuppressed', np.NaN)\n",
    "df.dropna(subset=['LO_INC_DEBT_N', 'MD_INC_DEBT_N', 'HI_INC_DEBT_N'], inplace=True)\n",
    "df['Public_or_Private'] = df.CONTROL.map({2:0, 1:1, 3:1})"
   ]
  },
  {
   "cell_type": "code",
   "execution_count": 10,
   "metadata": {},
   "outputs": [],
   "source": [
    "def create_logistic_regression(df, predictor_columns, predicted_column):\n",
    "    \"\"\"\n",
    "    Creates a logistic regression from input column names to predictor column\n",
    "    \n",
    "    Parameters\n",
    "    ----------\n",
    "    df: pandas dataframe\n",
    "        the dataframe's columns should include the predictor_columns and predicted_column\n",
    "    \n",
    "    predictor_columns: list\n",
    "        Should be a subset of columns from df. \n",
    "        Should have empty intersection with predicted_column\n",
    "    \n",
    "    predicted_column: string\n",
    "        Should be an element in the list of columns from df. \n",
    "        Should not be included in predictor_columns\n",
    "        \n",
    "    Returns\n",
    "    -------\n",
    "    logreg: logistic regression already trained on training data from predictor columns\n",
    "    \n",
    "    Note: This function will change the given dataframe\n",
    "    \"\"\"\n",
    "    \n",
    "    # Create dataframes( or series) with predictors and  predicted values\n",
    "    X = df[predictor_columns]\n",
    "    y = df[predicted_column]\n",
    "    \n",
    "    # Scale the data using Robust Scaler\n",
    "    scale = RobustScaler()\n",
    "    transformed = scale.fit_transform(X)\n",
    "    X = pd.DataFrame(transformed, columns = X.columns)\n",
    "    \n",
    "    # Create Train and Test Data\n",
    "    X_train, X_test, y_train, y_test = train_test_split(X, y, random_state=0)\n",
    "    \n",
    "    # Create a logistic regression model\n",
    "    logreg = LogisticRegression(fit_intercept=False, C=1e12, solver='lbfgs')\n",
    "    \n",
    "    # Fit the model to the training data\n",
    "    try:\n",
    "        model_log = logreg.fit(X_train, y_train)\n",
    "    except:\n",
    "        model_log = logreg.fit(np.array(X_train).reshape(-1,1), y_train)\n",
    "        \n",
    "    # Add a new column to the given data frame with predicted values\n",
    "    try:\n",
    "        df['Predicted_'+predicted_column] = logreg.predict(X)\n",
    "    except:\n",
    "        df['Predicted_'+predicted_column] = logreg.predict(np.array(X).reshape(-1,1))\n",
    "    \n",
    "    return logreg"
   ]
  },
  {
   "cell_type": "code",
   "execution_count": 23,
   "metadata": {},
   "outputs": [
    {
     "data": {
      "text/plain": [
       "0.7426352841647279"
      ]
     },
     "execution_count": 23,
     "metadata": {},
     "output_type": "execute_result"
    }
   ],
   "source": [
    "# Test create_logistic_regression\n",
    "\n",
    "create_logistic_regression(df, ['CDR3', 'HI_INC_DEBT_N'], 'Public_or_Private'\n",
    "                          ).score(df[['CDR3', 'HI_INC_DEBT_N']], df['Public_or_Private'])"
   ]
  },
  {
   "cell_type": "code",
   "execution_count": null,
   "metadata": {},
   "outputs": [],
   "source": [
    "def back_fill_from_year(df, columns, year):\n",
    "    fill_values = {}\n",
    "    for name in df.loc[df.year==2017].INSTNM:\n",
    "        for column in columns:\n",
    "            fill_values[name] = {'LOCALE': , \n",
    "                                 'CURROPER': }\n",
    "    \n",
    "    df."
   ]
  }
 ],
 "metadata": {
  "kernelspec": {
   "display_name": "Python 3",
   "language": "python",
   "name": "python3"
  },
  "language_info": {
   "codemirror_mode": {
    "name": "ipython",
    "version": 3
   },
   "file_extension": ".py",
   "mimetype": "text/x-python",
   "name": "python",
   "nbconvert_exporter": "python",
   "pygments_lexer": "ipython3",
   "version": "3.7.3"
  }
 },
 "nbformat": 4,
 "nbformat_minor": 2
}
