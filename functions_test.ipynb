{
 "cells": [
  {
   "cell_type": "code",
   "execution_count": 6,
   "metadata": {},
   "outputs": [],
   "source": [
    "import numpy as np\n",
    "import pandas as pd\n",
    "import pandas_profiling\n",
    "import os\n",
    "import matplotlib.pyplot as plt\n",
    "import seaborn as sns\n",
    "\n",
    "%matplotlib inline\n",
    "\n",
    "#from matplotlib import scatter_matrix\n",
    "from sklearn.preprocessing import MinMaxScaler\n",
    "from sklearn.preprocessing import RobustScaler\n",
    "from sklearn.linear_model import Lasso, Ridge, LinearRegression, LogisticRegression\n",
    "from sklearn.model_selection import train_test_split"
   ]
  },
  {
   "cell_type": "code",
   "execution_count": 47,
   "metadata": {},
   "outputs": [],
   "source": [
    "# import and clean test data\n",
    "\n",
    "df = pd.read_pickle('pickle_copy.pkl')"
   ]
  },
  {
   "cell_type": "code",
   "execution_count": 41,
   "metadata": {},
   "outputs": [],
   "source": [
    "df.dropna(subset=['CDR3', 'CONTROL'], inplace=True)\n",
    "df = df.replace('PrivacySuppressed', np.NaN)\n",
    "df.dropna(subset=['LO_INC_DEBT_N', 'MD_INC_DEBT_N', 'HI_INC_DEBT_N'], inplace=True)\n",
    "df['Public_or_Private'] = df.CONTROL.map({2:0, 1:1, 3:1})"
   ]
  },
  {
   "cell_type": "code",
   "execution_count": 10,
   "metadata": {},
   "outputs": [],
   "source": [
    "def create_logistic_regression(df, predictor_columns, predicted_column):\n",
    "    \"\"\"\n",
    "    Creates a logistic regression from input column names to predictor column\n",
    "    \n",
    "    Parameters\n",
    "    ----------\n",
    "    df: pandas dataframe\n",
    "        the dataframe's columns should include the predictor_columns and predicted_column\n",
    "    \n",
    "    predictor_columns: list\n",
    "        Should be a subset of columns from df. \n",
    "        Should have empty intersection with predicted_column\n",
    "    \n",
    "    predicted_column: string\n",
    "        Should be an element in the list of columns from df. \n",
    "        Should not be included in predictor_columns\n",
    "        \n",
    "    Returns\n",
    "    -------\n",
    "    logreg: logistic regression already trained on training data from predictor columns\n",
    "    \n",
    "    Note: This function will change the given dataframe\n",
    "    \"\"\"\n",
    "    \n",
    "    # Create dataframes( or series) with predictors and  predicted values\n",
    "    X = df[predictor_columns]\n",
    "    y = df[predicted_column]\n",
    "    \n",
    "    # Scale the data using Robust Scaler\n",
    "    scale = RobustScaler()\n",
    "    transformed = scale.fit_transform(X)\n",
    "    X = pd.DataFrame(transformed, columns = X.columns)\n",
    "    \n",
    "    # Create Train and Test Data\n",
    "    X_train, X_test, y_train, y_test = train_test_split(X, y, random_state=0)\n",
    "    \n",
    "    # Create a logistic regression model\n",
    "    logreg = LogisticRegression(fit_intercept=False, C=1e12, solver='lbfgs')\n",
    "    \n",
    "    # Fit the model to the training data\n",
    "    try:\n",
    "        model_log = logreg.fit(X_train, y_train)\n",
    "    except:\n",
    "        model_log = logreg.fit(np.array(X_train).reshape(-1,1), y_train)\n",
    "        \n",
    "    # Add a new column to the given data frame with predicted values\n",
    "    try:\n",
    "        df['Predicted_'+predicted_column] = logreg.predict(X)\n",
    "    except:\n",
    "        df['Predicted_'+predicted_column] = logreg.predict(np.array(X).reshape(-1,1))\n",
    "    \n",
    "    return logreg"
   ]
  },
  {
   "cell_type": "code",
   "execution_count": 23,
   "metadata": {},
   "outputs": [
    {
     "data": {
      "text/plain": [
       "0.7426352841647279"
      ]
     },
     "execution_count": 23,
     "metadata": {},
     "output_type": "execute_result"
    }
   ],
   "source": [
    "# Test create_logistic_regression\n",
    "\n",
    "create_logistic_regression(df, ['CDR3', 'HI_INC_DEBT_N'], 'Public_or_Private'\n",
    "                          ).score(df[['CDR3', 'HI_INC_DEBT_N']], df['Public_or_Private'])"
   ]
  },
  {
   "cell_type": "code",
   "execution_count": 60,
   "metadata": {},
   "outputs": [],
   "source": [
    "def back_fill_from_year(df, year):\n",
    "    fill_values = {np.NaN: np.NaN}\n",
    "    for name in df.loc[df.year==year].INSTNM:\n",
    "        fill_values[name] = {'LOCALE': df.loc[(df.INSTNM==name)&(df.year==year)].LOCALE, \n",
    "                             'CURROPER': df.loc[(df.INSTNM==name)&(df.year==year)].CURROPER}\n",
    "    \n",
    "    for name in df.loc[df.year!=year].INSTNM:\n",
    "        if fill_values.get(name):\n",
    "            pass\n",
    "        else:\n",
    "            fill_values[name]={'LOCALE': np.NaN, 'CURROPER': np.NaN}\n",
    "    \n",
    "    df.LOCALE = df.INSTNM.map(lambda name: fill_values.get(name)['LOCALE'])\n",
    "    df.CURROPER = df.INSTNM.map(lambda name: fill_values.get(name)['CURROPER'])\n",
    "    \n",
    "    return df"
   ]
  },
  {
   "cell_type": "code",
   "execution_count": 49,
   "metadata": {},
   "outputs": [],
   "source": [
    "back_fill_from_year(df, 2017)"
   ]
  },
  {
   "cell_type": "code",
   "execution_count": 48,
   "metadata": {},
   "outputs": [
    {
     "name": "stdout",
     "output_type": "stream",
     "text": [
      "<class 'pandas.core.frame.DataFrame'>\n",
      "Int64Index: 154228 entries, 0 to 7057\n",
      "Data columns (total 14 columns):\n",
      "INSTNM           154228 non-null object\n",
      "HIGHDEG          154228 non-null int64\n",
      "CONTROL          154205 non-null float64\n",
      "REGION           154227 non-null float64\n",
      "LOCALE           6614 non-null float64\n",
      "CURROPER         7058 non-null float64\n",
      "TUITFTE          133780 non-null float64\n",
      "INEXPFTE         133775 non-null float64\n",
      "CDR3             47815 non-null float64\n",
      "LO_INC_DEBT_N    137486 non-null object\n",
      "MD_INC_DEBT_N    137486 non-null object\n",
      "HI_INC_DEBT_N    137486 non-null object\n",
      "ICLEVEL          154205 non-null float64\n",
      "year             154228 non-null int64\n",
      "dtypes: float64(8), int64(2), object(4)\n",
      "memory usage: 17.6+ MB\n"
     ]
    }
   ],
   "source": [
    "df.info()"
   ]
  },
  {
   "cell_type": "code",
   "execution_count": 50,
   "metadata": {},
   "outputs": [
    {
     "name": "stdout",
     "output_type": "stream",
     "text": [
      "<class 'pandas.core.frame.DataFrame'>\n",
      "Int64Index: 154228 entries, 0 to 7057\n",
      "Data columns (total 14 columns):\n",
      "INSTNM           154228 non-null object\n",
      "HIGHDEG          154228 non-null int64\n",
      "CONTROL          154205 non-null float64\n",
      "REGION           154227 non-null float64\n",
      "LOCALE           121893 non-null object\n",
      "CURROPER         121893 non-null object\n",
      "TUITFTE          133780 non-null float64\n",
      "INEXPFTE         133775 non-null float64\n",
      "CDR3             47815 non-null float64\n",
      "LO_INC_DEBT_N    137486 non-null object\n",
      "MD_INC_DEBT_N    137486 non-null object\n",
      "HI_INC_DEBT_N    137486 non-null object\n",
      "ICLEVEL          154205 non-null float64\n",
      "year             154228 non-null int64\n",
      "dtypes: float64(6), int64(2), object(6)\n",
      "memory usage: 17.6+ MB\n"
     ]
    }
   ],
   "source": [
    "df.info()"
   ]
  },
  {
   "cell_type": "code",
   "execution_count": 58,
   "metadata": {
    "scrolled": true
   },
   "outputs": [
    {
     "data": {
      "text/html": [
       "<div>\n",
       "<style scoped>\n",
       "    .dataframe tbody tr th:only-of-type {\n",
       "        vertical-align: middle;\n",
       "    }\n",
       "\n",
       "    .dataframe tbody tr th {\n",
       "        vertical-align: top;\n",
       "    }\n",
       "\n",
       "    .dataframe thead th {\n",
       "        text-align: right;\n",
       "    }\n",
       "</style>\n",
       "<table border=\"1\" class=\"dataframe\">\n",
       "  <thead>\n",
       "    <tr style=\"text-align: right;\">\n",
       "      <th></th>\n",
       "      <th>INSTNM</th>\n",
       "      <th>HIGHDEG</th>\n",
       "      <th>CONTROL</th>\n",
       "      <th>REGION</th>\n",
       "      <th>LOCALE</th>\n",
       "      <th>CURROPER</th>\n",
       "      <th>TUITFTE</th>\n",
       "      <th>INEXPFTE</th>\n",
       "      <th>CDR3</th>\n",
       "      <th>LO_INC_DEBT_N</th>\n",
       "      <th>MD_INC_DEBT_N</th>\n",
       "      <th>HI_INC_DEBT_N</th>\n",
       "      <th>ICLEVEL</th>\n",
       "      <th>year</th>\n",
       "    </tr>\n",
       "  </thead>\n",
       "  <tbody>\n",
       "    <tr>\n",
       "      <th>7655</th>\n",
       "      <td>Chamberlain College of Nursing-Miramar Campus</td>\n",
       "      <td>0</td>\n",
       "      <td>3.0</td>\n",
       "      <td>5.0</td>\n",
       "      <td>NaN</td>\n",
       "      <td>NaN</td>\n",
       "      <td>NaN</td>\n",
       "      <td>NaN</td>\n",
       "      <td>0.079</td>\n",
       "      <td>2213</td>\n",
       "      <td>3464</td>\n",
       "      <td>3333</td>\n",
       "      <td>1.0</td>\n",
       "      <td>2011</td>\n",
       "    </tr>\n",
       "  </tbody>\n",
       "</table>\n",
       "</div>"
      ],
      "text/plain": [
       "                                             INSTNM  HIGHDEG  CONTROL  REGION  \\\n",
       "7655  Chamberlain College of Nursing-Miramar Campus        0      3.0     5.0   \n",
       "\n",
       "     LOCALE CURROPER  TUITFTE  INEXPFTE   CDR3 LO_INC_DEBT_N MD_INC_DEBT_N  \\\n",
       "7655    NaN      NaN      NaN       NaN  0.079          2213          3464   \n",
       "\n",
       "     HI_INC_DEBT_N  ICLEVEL  year  \n",
       "7655          3333      1.0  2011  "
      ]
     },
     "execution_count": 58,
     "metadata": {},
     "output_type": "execute_result"
    }
   ],
   "source": [
    "df.loc[df.INSTNM=='Chamberlain College of Nursing-Miramar Campus']"
   ]
  },
  {
   "cell_type": "code",
   "execution_count": 59,
   "metadata": {},
   "outputs": [],
   "source": [
    "df.at[7655,'REGION'] = 5"
   ]
  },
  {
   "cell_type": "code",
   "execution_count": null,
   "metadata": {},
   "outputs": [],
   "source": []
  }
 ],
 "metadata": {
  "kernelspec": {
   "display_name": "Python 3",
   "language": "python",
   "name": "python3"
  },
  "language_info": {
   "codemirror_mode": {
    "name": "ipython",
    "version": 3
   },
   "file_extension": ".py",
   "mimetype": "text/x-python",
   "name": "python",
   "nbconvert_exporter": "python",
   "pygments_lexer": "ipython3",
   "version": "3.7.3"
  }
 },
 "nbformat": 4,
 "nbformat_minor": 2
}
